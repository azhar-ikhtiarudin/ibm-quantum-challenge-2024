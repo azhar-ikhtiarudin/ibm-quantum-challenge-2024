{
 "cells": [
  {
   "cell_type": "markdown",
   "metadata": {},
   "source": [
    "### Define Ansatz Circuit"
   ]
  },
  {
   "cell_type": "code",
   "execution_count": 12,
   "metadata": {},
   "outputs": [
    {
     "data": {
      "image/png": "[encoded data removed]",
      "text/plain": [
       "<Figure size 538.128x284.278 with 1 Axes>"
      ]
     },
     "execution_count": 12,
     "metadata": {},
     "output_type": "execute_result"
    }
   ],
   "source": [
    "import numpy as np\n",
    "from qiskit import QuantumCircuit\n",
    "from qiskit_aer import AerSimulator\n",
    "from qiskit.transpiler.preset_passmanagers import generate_preset_pass_manager\n",
    "from qiskit.circuit import Parameter\n",
    "from qiskit.quantum_info import SparsePauliOp\n",
    "from qiskit_ibm_runtime import EstimatorV2\n",
    "from math import pi\n",
    "\n",
    "backend = AerSimulator()\n",
    "qc = QuantumCircuit(2,2)\n",
    "qc.name = 'H2 STO-3G g1-g3'\n",
    "theta = Parameter('theta')\n",
    "\n",
    "qc.x(0)\n",
    "qc.ry(np.pi/2,1)\n",
    "qc.rx(3*np.pi/2,0)\n",
    "qc.cx(1,0)\n",
    "qc.rz(theta,0)\n",
    "qc.cx(1,0)\n",
    "qc.ry(3*np.pi/2,1)\n",
    "qc.rx(np.pi/2,0)\n",
    "\n",
    "pm = generate_preset_pass_manager(target=backend.target, optimization_level=1)\n",
    "qc2_aer = pm.run(qc)\n",
    "qc2_aer.draw()"
   ]
  },
  {
   "cell_type": "markdown",
   "metadata": {},
   "source": [
    "### Parameters"
   ]
  },
  {
   "cell_type": "code",
   "execution_count": 19,
   "metadata": {},
   "outputs": [],
   "source": [
    "angles = [ [pi/4], [pi/3] ]"
   ]
  },
  {
   "cell_type": "markdown",
   "metadata": {},
   "source": [
    "### Observables"
   ]
  },
  {
   "cell_type": "code",
   "execution_count": 14,
   "metadata": {},
   "outputs": [],
   "source": [
    "obsv_list = [\n",
    "    [SparsePauliOp(['II'], [-0.5597])],\n",
    "    [SparsePauliOp(['IZ'], [ 0.1615])],\n",
    "    [SparsePauliOp(['ZI'], [-0.0166])],\n",
    "    [SparsePauliOp(['ZZ'], [ 0.4148])],\n",
    "    [SparsePauliOp(['YY'], [ 0.1266])],\n",
    "    [SparsePauliOp(['XX'], [ 0.1266])]\n",
    "]"
   ]
  },
  {
   "cell_type": "code",
   "execution_count": 15,
   "metadata": {},
   "outputs": [],
   "source": [
    "estimator = EstimatorV2(backend=backend)"
   ]
  },
  {
   "cell_type": "code",
   "execution_count": 37,
   "metadata": {},
   "outputs": [],
   "source": [
    "angles = [-pi/2]"
   ]
  },
  {
   "cell_type": "code",
   "execution_count": 42,
   "metadata": {},
   "outputs": [
    {
     "name": "stdout",
     "output_type": "stream",
     "text": [
      "[[-5.5970000e-01]\n",
      " [ 2.5234375e-03]\n",
      " [ 2.5937500e-04]\n",
      " [-4.1480000e-01]\n",
      " [ 1.2660000e-01]\n",
      " [ 1.2660000e-01]]\n"
     ]
    }
   ],
   "source": [
    "job = estimator.run([(qc, obsv_list, angles)])\n",
    "exp_vals_aer = job.result()[0].data.evs\n",
    "print(exp_vals_aer)"
   ]
  },
  {
   "cell_type": "code",
   "execution_count": 39,
   "metadata": {},
   "outputs": [
    {
     "data": {
      "text/plain": [
       "-0.7196614799999999"
      ]
     },
     "execution_count": 39,
     "metadata": {},
     "output_type": "execute_result"
    }
   ],
   "source": [
    "np.sum(exp_vals_aer)"
   ]
  },
  {
   "cell_type": "markdown",
   "metadata": {},
   "source": [
    "three lists each with three separate results, each of the lists corresponds to the results to each of the observables, and the values within each list correspond to the expectation value calculated for each of the different circuits that had different parameter values"
   ]
  }
 ],
 "metadata": {
  "kernelspec": {
   "display_name": "qgss24",
   "language": "python",
   "name": "python3"
  },
  "language_info": {
   "codemirror_mode": {
    "name": "ipython",
    "version": 3
   },
   "file_extension": ".py",
   "mimetype": "text/x-python",
   "name": "python",
   "nbconvert_exporter": "python",
   "pygments_lexer": "ipython3",
   "version": "3.10.14"
  }
 },
 "nbformat": 4,
 "nbformat_minor": 2
}
