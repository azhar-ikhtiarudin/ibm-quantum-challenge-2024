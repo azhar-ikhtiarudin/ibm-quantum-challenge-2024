{
 "cells": [
  {
   "cell_type": "markdown",
   "metadata": {
    "id": "Hf3GQN0xpy7T"
   },
   "source": [
    "<a href=\"https://qworld.net\" target=\"_blank\" align=\"left\"><img src=\"https://gitlab.com/qworld/qeducation/qbook101/raw/main/qworld/images/header.jpg\" align=\"left\"></a>\n",
    "$ \\newcommand{\\bra}[1]{\\langle #1|} $\n",
    "$ \\newcommand{\\ket}[1]{|#1\\rangle} $\n",
    "$ \\newcommand{\\braket}[2]{\\langle #1|#2\\rangle} $\n",
    "$ \\newcommand{\\dot}[2]{ #1 \\cdot #2} $\n",
    "$ \\newcommand{\\biginner}[2]{\\left\\langle #1,#2\\right\\rangle} $\n",
    "$ \\newcommand{\\mymatrix}[2]{\\left( \\begin{array}{#1} #2\\end{array} \\right)} $\n",
    "$ \\newcommand{\\myvector}[1]{\\mymatrix{c}{#1}} $\n",
    "$ \\newcommand{\\myrvector}[1]{\\mymatrix{r}{#1}} $\n",
    "$ \\newcommand{\\mypar}[1]{\\left( #1 \\right)} $\n",
    "$ \\newcommand{\\mybigpar}[1]{ \\Big( #1 \\Big)} $\n",
    "$ \\newcommand{\\sqrttwo}{\\frac{1}{\\sqrt{2}}} $\n",
    "$ \\newcommand{\\dsqrttwo}{\\dfrac{1}{\\sqrt{2}}} $\n",
    "$ \\newcommand{\\onehalf}{\\frac{1}{2}} $\n",
    "$ \\newcommand{\\donehalf}{\\dfrac{1}{2}} $\n",
    "$ \\newcommand{\\hadamard}{ \\mymatrix{rr}{ \\sqrttwo & \\sqrttwo \\\\ \\sqrttwo & -\\sqrttwo }} $\n",
    "$ \\newcommand{\\vzero}{\\myvector{1\\\\0}} $\n",
    "$ \\newcommand{\\vone}{\\myvector{0\\\\1}} $\n",
    "$ \\newcommand{\\stateplus}{\\myvector{ \\sqrttwo \\\\  \\sqrttwo } } $\n",
    "$ \\newcommand{\\stateminus}{ \\myrvector{ \\sqrttwo \\\\ -\\sqrttwo } } $\n",
    "$ \\newcommand{\\myarray}[2]{ \\begin{array}{#1}#2\\end{array}} $\n",
    "$ \\newcommand{\\X}{ \\mymatrix{cc}{0 & 1 \\\\ 1 & 0}  } $\n",
    "$ \\newcommand{\\I}{ \\mymatrix{rr}{1 & 0 \\\\ 0 & 1}  } $\n",
    "$ \\newcommand{\\Z}{ \\mymatrix{rr}{1 & 0 \\\\ 0 & -1}  } $\n",
    "$ \\newcommand{\\Htwo}{ \\mymatrix{rrrr}{ \\frac{1}{2} & \\frac{1}{2} & \\frac{1}{2} & \\frac{1}{2} \\\\ \\frac{1}{2} & -\\frac{1}{2} & \\frac{1}{2} & -\\frac{1}{2} \\\\ \\frac{1}{2} & \\frac{1}{2} & -\\frac{1}{2} & -\\frac{1}{2} \\\\ \\frac{1}{2} & -\\frac{1}{2} & -\\frac{1}{2} & \\frac{1}{2} } } $\n",
    "$ \\newcommand{\\CNOT}{ \\mymatrix{cccc}{1 & 0 & 0 & 0 \\\\ 0 & 1 & 0 & 0 \\\\ 0 & 0 & 0 & 1 \\\\ 0 & 0 & 1 & 0} } $\n",
    "$ \\newcommand{\\norm}[1]{ \\left\\lVert #1 \\right\\rVert } $\n",
    "$ \\newcommand{\\pstate}[1]{ \\lceil \\mspace{-1mu} #1 \\mspace{-1.5mu} \\rfloor } $\n",
    "$ \\newcommand{\\greenbit}[1] {\\mathbf{{\\color{green}#1}}} $\n",
    "$ \\newcommand{\\bluebit}[1] {\\mathbf{{\\color{blue}#1}}} $\n",
    "$ \\newcommand{\\redbit}[1] {\\mathbf{{\\color{red}#1}}} $\n",
    "$ \\newcommand{\\brownbit}[1] {\\mathbf{{\\color{brown}#1}}} $\n",
    "$ \\newcommand{\\blackbit}[1] {\\mathbf{{\\color{black}#1}}} $"
   ]
  },
  {
   "cell_type": "markdown",
   "metadata": {
    "id": "r6sY4UIbpy7W"
   },
   "source": [
    "_prepared by Abuzer Yakaryilmaz_"
   ]
  },
  {
   "cell_type": "markdown",
   "metadata": {
    "id": "KPPyWCUKpy7W"
   },
   "source": [
    "<font size=\"28px\" style=\"font-size:28px;\" align=\"left\"><b>Operations on the Unit Circle  </b></font>\n",
    "<br>\n",
    "<br><br>\n",
    "[<img src=\"https://gitlab.com/qworld/qeducation/qbook101/raw/main/qworld/images/watch_lecture.jpg\" align=\"left\">](https://youtu.be/FDn7cMimNAU)\n",
    "<br><br><br>"
   ]
  },
  {
   "cell_type": "markdown",
   "metadata": {
    "id": "Olk6xy8Bpy7X",
    "jp-MarkdownHeadingCollapsed": true
   },
   "source": [
    "##### <font color=\"#08b806\">Please execute the following cell, it is necessary to distinguish between your local environment and Google Colab's"
   ]
  },
  {
   "cell_type": "code",
   "execution_count": 1,
   "metadata": {
    "colab": {
     "base_uri": "https://localhost:8080/"
    },
    "id": "0J2W1yzFpy7Y",
    "outputId": "9fa2ebdf-4ab2-4d7c-d507-f8a0b014d83d"
   },
   "outputs": [],
   "source": [
    "import IPython\n",
    "\n",
    "def in_colab():\n",
    "    try:\n",
    "        import google.colab\n",
    "        return True\n",
    "    except:\n",
    "        return False\n",
    "\n",
    "path_files = \"./\" if in_colab() else \"../qworld/include/\"\n",
    "\n",
    "SolutionToTask3 = lambda: IPython.display.display(IPython.display.Javascript('window.open(\"{url}\");'.format(url='https://colab.research.google.com/drive/1E2G4XuE9B_OcCOAqVIdOuYgdkcgJIfiQ?usp=sharing#scrollTo=ibOcqmCYdugl' if in_colab() else 'QB24_Q40_Operations_on_the_Unit_Circle_Solution.ipynb#task3')))\n",
    "\n",
    "if in_colab():\n",
    "    url = \"https://gitlab.com/qworld/qeducation/qbook101/raw/main/qworld/include/quantum.py\"\n",
    "    !wget --no-cache -O quantum.py {url}\n",
    "\n",
    "    url = \"https://gitlab.com/qworld/qeducation/qbook101/raw/main/qworld/include/drawing.py\"\n",
    "    !wget --no-cache -O drawing.py {url}\n",
    "\n",
    "    url = \"https://gitlab.com/qworld/qeducation/qbook101/raw/main/qworld/include/quantum_state.py\"\n",
    "    !wget --no-cache -O quantum_state.py {url}\n",
    "\n",
    "    url = \"https://gitlab.com/qworld/qeducation/qbook101/raw/main/qworld/include/grover.py\"\n",
    "    !wget --no-cache -O grover.py {url}\n",
    "\n",
    "    !pip install qiskit[visualization]==0.43.3\n",
    "    !pip install qiskit-aer"
   ]
  },
  {
   "cell_type": "markdown",
   "metadata": {
    "id": "rWQRfjn-py7Y"
   },
   "source": [
    "##### _We use certain tools from python library \"<b>matplotlib.pyplot</b>\" for drawing. Check the notebook [Python: Drawing](appendices/A_python/QB_A7_Python06_Drawing.ipynb) for the list of these tools._"
   ]
  },
  {
   "cell_type": "markdown",
   "metadata": {
    "id": "XTRAGLjnpy7Z"
   },
   "source": [
    "<h3>Scenario 1</h3>\n",
    "\n",
    "We start with drawing the quantum states $ \\ket{0} $ and $ \\ket{+} = \\myvector{ \\frac{1}{\\sqrt{2}} \\\\ \\frac{1}{\\sqrt{2}} } $."
   ]
  },
  {
   "cell_type": "markdown",
   "metadata": {
    "id": "jopHQVL_py7Z"
   },
   "source": [
    "<i style=\"font-size:10pt;\">\n",
    "Our predefined function \"draw_qubit()\" draws a figure, the origin, the axes, the unit circle, and base quantum states.\n",
    "<br>\n",
    "Our predefined function \"draw_quantum_state(x,y,name)\" draws an arrow from (0,0) to (x,y) and associates it with <u>name</u>.\n",
    "<br>\n",
    "We include our predefined functions with the following line of code:\n",
    "    \n",
    "    %run quantum.py\n",
    "</i>   "
   ]
  },
  {
   "cell_type": "code",
   "execution_count": 2,
   "metadata": {
    "colab": {
     "base_uri": "https://localhost:8080/",
     "height": 321
    },
    "id": "nLtuikUapy7Z",
    "outputId": "a6f0dc20-241a-420b-cf58-3b2c4def0360"
   },
   "outputs": [
    {
     "ename": "Exception",
     "evalue": "File `'../qworld/include/quantum.py'` not found.",
     "output_type": "error",
     "traceback": [
      "\u001b[0;31m---------------------------------------------------------------------------\u001b[0m",
      "\u001b[0;31mOSError\u001b[0m                                   Traceback (most recent call last)",
      "File \u001b[0;32m~/anaconda3/envs/qiskit-1-2/lib/python3.12/site-packages/IPython/core/magics/execution.py:716\u001b[0m, in \u001b[0;36mExecutionMagics.run\u001b[0;34m(self, parameter_s, runner, file_finder)\u001b[0m\n\u001b[1;32m    715\u001b[0m     fpath \u001b[38;5;241m=\u001b[39m arg_lst[\u001b[38;5;241m0\u001b[39m]\n\u001b[0;32m--> 716\u001b[0m     filename \u001b[38;5;241m=\u001b[39m \u001b[43mfile_finder\u001b[49m\u001b[43m(\u001b[49m\u001b[43mfpath\u001b[49m\u001b[43m)\u001b[49m\n\u001b[1;32m    717\u001b[0m \u001b[38;5;28;01mexcept\u001b[39;00m \u001b[38;5;167;01mIndexError\u001b[39;00m \u001b[38;5;28;01mas\u001b[39;00m e:\n",
      "File \u001b[0;32m~/anaconda3/envs/qiskit-1-2/lib/python3.12/site-packages/IPython/utils/path.py:91\u001b[0m, in \u001b[0;36mget_py_filename\u001b[0;34m(name)\u001b[0m\n\u001b[1;32m     90\u001b[0m         \u001b[38;5;28;01mreturn\u001b[39;00m py_name\n\u001b[0;32m---> 91\u001b[0m \u001b[38;5;28;01mraise\u001b[39;00m \u001b[38;5;167;01mIOError\u001b[39;00m(\u001b[38;5;124m\"\u001b[39m\u001b[38;5;124mFile `\u001b[39m\u001b[38;5;132;01m%r\u001b[39;00m\u001b[38;5;124m` not found.\u001b[39m\u001b[38;5;124m\"\u001b[39m \u001b[38;5;241m%\u001b[39m name)\n",
      "\u001b[0;31mOSError\u001b[0m: File `'../qworld/include/quantum.py'` not found.",
      "\nThe above exception was the direct cause of the following exception:\n",
      "\u001b[0;31mException\u001b[0m                                 Traceback (most recent call last)",
      "Cell \u001b[0;32mIn[2], line 2\u001b[0m\n\u001b[1;32m      1\u001b[0m quantum_file \u001b[38;5;241m=\u001b[39m path_files\u001b[38;5;241m+\u001b[39m\u001b[38;5;124m\"\u001b[39m\u001b[38;5;124mquantum.py\u001b[39m\u001b[38;5;124m\"\u001b[39m\n\u001b[0;32m----> 2\u001b[0m \u001b[43mget_ipython\u001b[49m\u001b[43m(\u001b[49m\u001b[43m)\u001b[49m\u001b[38;5;241;43m.\u001b[39;49m\u001b[43mrun_line_magic\u001b[49m\u001b[43m(\u001b[49m\u001b[38;5;124;43m'\u001b[39;49m\u001b[38;5;124;43mrun\u001b[39;49m\u001b[38;5;124;43m'\u001b[39;49m\u001b[43m,\u001b[49m\u001b[43m \u001b[49m\u001b[38;5;124;43m'\u001b[39;49m\u001b[38;5;124;43m$quantum_file\u001b[39;49m\u001b[38;5;124;43m'\u001b[39;49m\u001b[43m)\u001b[49m\n\u001b[1;32m      4\u001b[0m draw_qubit()\n\u001b[1;32m      6\u001b[0m sqrttwo\u001b[38;5;241m=\u001b[39m\u001b[38;5;241m2\u001b[39m\u001b[38;5;241m*\u001b[39m\u001b[38;5;241m*\u001b[39m\u001b[38;5;241m0.5\u001b[39m\n",
      "File \u001b[0;32m~/anaconda3/envs/qiskit-1-2/lib/python3.12/site-packages/IPython/core/interactiveshell.py:2480\u001b[0m, in \u001b[0;36mInteractiveShell.run_line_magic\u001b[0;34m(self, magic_name, line, _stack_depth)\u001b[0m\n\u001b[1;32m   2478\u001b[0m     kwargs[\u001b[38;5;124m'\u001b[39m\u001b[38;5;124mlocal_ns\u001b[39m\u001b[38;5;124m'\u001b[39m] \u001b[38;5;241m=\u001b[39m \u001b[38;5;28mself\u001b[39m\u001b[38;5;241m.\u001b[39mget_local_scope(stack_depth)\n\u001b[1;32m   2479\u001b[0m \u001b[38;5;28;01mwith\u001b[39;00m \u001b[38;5;28mself\u001b[39m\u001b[38;5;241m.\u001b[39mbuiltin_trap:\n\u001b[0;32m-> 2480\u001b[0m     result \u001b[38;5;241m=\u001b[39m \u001b[43mfn\u001b[49m\u001b[43m(\u001b[49m\u001b[38;5;241;43m*\u001b[39;49m\u001b[43margs\u001b[49m\u001b[43m,\u001b[49m\u001b[43m \u001b[49m\u001b[38;5;241;43m*\u001b[39;49m\u001b[38;5;241;43m*\u001b[39;49m\u001b[43mkwargs\u001b[49m\u001b[43m)\u001b[49m\n\u001b[1;32m   2482\u001b[0m \u001b[38;5;66;03m# The code below prevents the output from being displayed\u001b[39;00m\n\u001b[1;32m   2483\u001b[0m \u001b[38;5;66;03m# when using magics with decorator @output_can_be_silenced\u001b[39;00m\n\u001b[1;32m   2484\u001b[0m \u001b[38;5;66;03m# when the last Python token in the expression is a ';'.\u001b[39;00m\n\u001b[1;32m   2485\u001b[0m \u001b[38;5;28;01mif\u001b[39;00m \u001b[38;5;28mgetattr\u001b[39m(fn, magic\u001b[38;5;241m.\u001b[39mMAGIC_OUTPUT_CAN_BE_SILENCED, \u001b[38;5;28;01mFalse\u001b[39;00m):\n",
      "File \u001b[0;32m~/anaconda3/envs/qiskit-1-2/lib/python3.12/site-packages/IPython/core/magics/execution.py:727\u001b[0m, in \u001b[0;36mExecutionMagics.run\u001b[0;34m(self, parameter_s, runner, file_finder)\u001b[0m\n\u001b[1;32m    725\u001b[0m     \u001b[38;5;28;01mif\u001b[39;00m os\u001b[38;5;241m.\u001b[39mname \u001b[38;5;241m==\u001b[39m \u001b[38;5;124m'\u001b[39m\u001b[38;5;124mnt\u001b[39m\u001b[38;5;124m'\u001b[39m \u001b[38;5;129;01mand\u001b[39;00m re\u001b[38;5;241m.\u001b[39mmatch(\u001b[38;5;124mr\u001b[39m\u001b[38;5;124m\"\u001b[39m\u001b[38;5;124m^\u001b[39m\u001b[38;5;124m'\u001b[39m\u001b[38;5;124m.*\u001b[39m\u001b[38;5;124m'\u001b[39m\u001b[38;5;124m$\u001b[39m\u001b[38;5;124m\"\u001b[39m,fpath):\n\u001b[1;32m    726\u001b[0m         warn(\u001b[38;5;124m'\u001b[39m\u001b[38;5;124mFor Windows, use double quotes to wrap a filename: \u001b[39m\u001b[38;5;132;01m%r\u001b[39;00m\u001b[38;5;124mun \u001b[39m\u001b[38;5;124m\"\u001b[39m\u001b[38;5;124mmypath\u001b[39m\u001b[38;5;130;01m\\\\\u001b[39;00m\u001b[38;5;124mmyfile.py\u001b[39m\u001b[38;5;124m\"\u001b[39m\u001b[38;5;124m'\u001b[39m)\n\u001b[0;32m--> 727\u001b[0m     \u001b[38;5;28;01mraise\u001b[39;00m \u001b[38;5;167;01mException\u001b[39;00m(msg) \u001b[38;5;28;01mfrom\u001b[39;00m \u001b[38;5;21;01me\u001b[39;00m\n\u001b[1;32m    728\u001b[0m \u001b[38;5;28;01mexcept\u001b[39;00m \u001b[38;5;167;01mTypeError\u001b[39;00m:\n\u001b[1;32m    729\u001b[0m     \u001b[38;5;28;01mif\u001b[39;00m fpath \u001b[38;5;129;01min\u001b[39;00m sys\u001b[38;5;241m.\u001b[39mmeta_path:\n",
      "\u001b[0;31mException\u001b[0m: File `'../qworld/include/quantum.py'` not found."
     ]
    }
   ],
   "source": [
    "quantum_file = path_files+\"quantum.py\"\n",
    "%run $quantum_file\n",
    "\n",
    "draw_qubit()\n",
    "\n",
    "sqrttwo=2**0.5\n",
    "\n",
    "draw_quantum_state(1,0,\"\")\n",
    "\n",
    "draw_quantum_state(1/sqrttwo,1/sqrttwo,\"|+>\")\n",
    "\n",
    "# drawing the angle with |0>-axis\n",
    "from matplotlib.pyplot import gca, text\n",
    "from matplotlib.patches import Arc\n",
    "gca().add_patch( Arc((0,0),0.4,0.4,angle=0,theta1=0,theta2=45) )\n",
    "text(0.08,0.05,'.',fontsize=30)\n",
    "text(0.21,0.09,'\\u03C0/4')\n",
    "show_plt()"
   ]
  },
  {
   "cell_type": "markdown",
   "metadata": {
    "id": "D9x_nBFipy7a"
   },
   "source": [
    "<h3> Task 1 (Discussion) </h3>\n",
    "\n",
    "When starting in the state $ \\ket{0} $, we apply a quantum operator, say $ M $, then we obtain the state $\\ket{+}$.\n",
    "\n",
    "If we apply the operator $ M $ once more, what can be the next state?\n",
    "\n",
    "How can we classify possible $ M $'s geometrically? How can we parameterize each possible $ M $?"
   ]
  },
  {
   "cell_type": "markdown",
   "metadata": {
    "id": "69wZNOqIpy7a"
   },
   "source": [
    "<h3>Scenario 2</h3>\n",
    "\n",
    "We draw the quantum states $ \\ket{1} $ and $ \\ket{-} = \\stateminus $."
   ]
  },
  {
   "cell_type": "code",
   "execution_count": null,
   "metadata": {
    "colab": {
     "base_uri": "https://localhost:8080/",
     "height": 339
    },
    "id": "7ndGVhJEpy7a",
    "outputId": "6c7a8b90-435a-41be-ceb2-6b0a39b3931a"
   },
   "outputs": [
    {
     "data": {
      "text/plain": [
       "<Figure size 640x480 with 0 Axes>"
      ]
     },
     "metadata": {},
     "output_type": "display_data"
    },
    {
     "data": {
      "image/png": "[encoded data removed]",
      "text/plain": [
       "<Figure size 360x360 with 1 Axes>"
      ]
     },
     "metadata": {},
     "output_type": "display_data"
    }
   ],
   "source": [
    "quantum_file = path_files+\"quantum.py\"\n",
    "%run $quantum_file\n",
    "\n",
    "draw_qubit()\n",
    "\n",
    "sqrttwo=2**0.5\n",
    "\n",
    "draw_quantum_state(0,1,\"\")\n",
    "\n",
    "draw_quantum_state(1/sqrttwo,-1/sqrttwo,\"|->\")\n",
    "\n",
    "# drawing the angle with |0>-axis\n",
    "from matplotlib.pyplot import gca, text\n",
    "from matplotlib.patches import Arc\n",
    "gca().add_patch( Arc((0,0),0.4,0.4,angle=0,theta1=-45,theta2=90) )\n",
    "text(0.08,0.05,'.',fontsize=30)\n",
    "text(0.21,0.09,'3\\u03C0/4')\n",
    "show_plt()"
   ]
  },
  {
   "cell_type": "markdown",
   "metadata": {
    "id": "TlUUKXIkpy7a"
   },
   "source": [
    "<h3> Task 2 (Discussion) </h3>\n",
    "\n",
    "When starting in the state $ \\ket{1} $, we apply a quantum operator, say $ M $, then we obtain the state $\\ket{-}$.\n",
    "\n",
    "If we apply the operator $ M $ again, what can be the next state?\n",
    "\n",
    "How can we parameterize each possible $ M $?"
   ]
  },
  {
   "cell_type": "markdown",
   "metadata": {
    "id": "yXpjkZCZpy7a"
   },
   "source": [
    "<hr>\n",
    "<h3>Initialize a (real-valued) qubit with an arbitrary state</h3>\n",
    "\n",
    "A qubit is set to the state $\\ket{0}$ at the beginning.\n",
    "\n",
    "Any real-valued quantum state is a point in the unit circle, and it can be described by an angle, say $\\theta$:\n",
    "\n",
    "For $ \\theta \\in [0,2\\pi) $, the quantum state is $ \\ket{v} = \\myvector{\\cos \\theta \\\\ \\sin \\theta} $.\n",
    "\n",
    "We can set the qubit to the state $ \\ket{v} $ by using a rotation operator between $ \\ket{0} $ and $ \\ket{1} $ with angle $ \\theta $."
   ]
  },
  {
   "cell_type": "markdown",
   "metadata": {
    "id": "28-3F8Ynpy7a"
   },
   "source": [
    "<h3>Rotations with ry-gate</h3>"
   ]
  },
  {
   "cell_type": "markdown",
   "metadata": {
    "id": "T83XDYc9py7a"
   },
   "source": [
    "In Qiskit, the ry-gate can be used for the rotations on the unit circle.\n",
    "\n",
    "The default direction of a rotation by ry-gate is counterclockwise. It is used as follows:\n",
    "\n",
    "    quantum_circuit.ry(2 * angle_of_rotation,qubit)\n",
    "\n",
    "<i>Technical remark: ry-gate is defined on <a href=\"https://en.wikipedia.org/wiki/Bloch_sphere\" target=\"_blank\">Bloch sphere</a>. The states $ \\ket{0} $ and $ \\ket{1} $ are placed on the poles of Bloch sphere, and so the angle between them is $ \\pi $ on Bloch sphere. On the other hand, the angles between the states $ \\ket{0} $ and $ \\ket{1} $ on the unit circle is $ \\frac{\\pi}{2} $. Therefore, when using ry-gate, we provide twice of $ \\theta $ for a rotation with angle $\\theta$ on the unit circle.</i>"
   ]
  },
  {
   "cell_type": "code",
   "execution_count": null,
   "metadata": {
    "colab": {
     "base_uri": "https://localhost:8080/",
     "height": 191
    },
    "id": "T3r4oXhUpy7a",
    "outputId": "03ee081b-79c9-4784-defa-cb784352fd6f"
   },
   "outputs": [
    {
     "data": {
      "image/png": "[encoded data removed]",
      "text/plain": [
       "<Figure size 287.093x200.667 with 1 Axes>"
      ]
     },
     "execution_count": 5,
     "metadata": {},
     "output_type": "execute_result"
    }
   ],
   "source": [
    "from qiskit import QuantumRegister, ClassicalRegister, QuantumCircuit, execute, Aer\n",
    "from qiskit.visualization import plot_histogram\n",
    "from math import pi\n",
    "\n",
    "# we define a quantum circuit with one qubit and one bit\n",
    "q =  QuantumRegister(1) # quantum register with a single qubit\n",
    "c = ClassicalRegister(1) # classical register with a single bit\n",
    "qc = QuantumCircuit(q,c) # quantum circuit with quantum and classical registers\n",
    "\n",
    "# angle of rotation in radian\n",
    "rotation_angle = 2*pi/3\n",
    "\n",
    "# rotate the qubit with rotation_angle\n",
    "qc.ry(2*rotation_angle,q[0])\n",
    "\n",
    "# measure the qubit\n",
    "qc.measure(q,c)\n",
    "\n",
    "# draw the circuit\n",
    "qc.draw(output='mpl')"
   ]
  },
  {
   "cell_type": "code",
   "execution_count": null,
   "metadata": {
    "colab": {
     "base_uri": "https://localhost:8080/",
     "height": 467
    },
    "id": "u1LOHdY0py7b",
    "outputId": "318175e0-9e97-4e8c-a4bb-cbc564c6437d"
   },
   "outputs": [
    {
     "name": "stdout",
     "output_type": "stream",
     "text": [
      "{'0': 246, '1': 754}\n"
     ]
    },
    {
     "data": {
      "image/png": "[encoded data removed]",
      "text/plain": [
       "<Figure size 700x500 with 1 Axes>"
      ]
     },
     "execution_count": 6,
     "metadata": {},
     "output_type": "execute_result"
    }
   ],
   "source": [
    "# execute the program 1000 times\n",
    "job = execute(qc,Aer.get_backend('qasm_simulator'),shots=1000)\n",
    "\n",
    "# print the results\n",
    "counts = job.result().get_counts(qc)\n",
    "print(counts)\n",
    "\n",
    "# draw the histogram\n",
    "plot_histogram(counts)"
   ]
  },
  {
   "cell_type": "code",
   "execution_count": null,
   "metadata": {
    "colab": {
     "base_uri": "https://localhost:8080/"
    },
    "id": "6CFsNn9dpy7b",
    "outputId": "77b92181-9594-4af7-82fb-cae6c7e14e54"
   },
   "outputs": [
    {
     "name": "stdout",
     "output_type": "stream",
     "text": [
      "The quantum state is -0.5 |0> + 0.866 |1>\n",
      "The expected value of observing '0' is 250.0\n",
      "The expected value of observing '1' is 750.0\n"
     ]
    }
   ],
   "source": [
    "from math import sin,cos\n",
    "\n",
    "# the quantum state\n",
    "quantum_state = [ cos(rotation_angle) , sin (rotation_angle) ]\n",
    "print(\"The quantum state is\",round(quantum_state[0],4),\"|0> +\",round(quantum_state[1],4),\"|1>\")\n",
    "\n",
    "the_expected_number_of_zeros = 1000*cos(rotation_angle)**2\n",
    "the_expected_number_of_ones = 1000*sin(rotation_angle)**2\n",
    "\n",
    "# expected results\n",
    "print(\"The expected value of observing '0' is\",round(the_expected_number_of_zeros,4))\n",
    "print(\"The expected value of observing '1' is\",round(the_expected_number_of_ones,4))"
   ]
  },
  {
   "cell_type": "code",
   "execution_count": null,
   "metadata": {
    "colab": {
     "base_uri": "https://localhost:8080/",
     "height": 339
    },
    "id": "nxrA4z0Fpy7b",
    "outputId": "9f11769c-2dc3-4780-9ffb-f1a7294ad392"
   },
   "outputs": [
    {
     "data": {
      "text/plain": [
       "<Figure size 640x480 with 0 Axes>"
      ]
     },
     "metadata": {},
     "output_type": "display_data"
    },
    {
     "data": {
      "image/png": "[encoded data removed]",
      "text/plain": [
       "<Figure size 360x360 with 1 Axes>"
      ]
     },
     "metadata": {},
     "output_type": "display_data"
    }
   ],
   "source": [
    "# draw the quantum state\n",
    "\n",
    "quantum_file = path_files+\"quantum.py\"\n",
    "%run $quantum_file\n",
    "\n",
    "draw_qubit()\n",
    "\n",
    "draw_quantum_state(quantum_state[0],quantum_state[1],\"|v>\")"
   ]
  },
  {
   "cell_type": "markdown",
   "metadata": {
    "id": "ZEhWbOw3py7b"
   },
   "source": [
    "<h3> Task 3</h3>\n",
    "\n",
    "Randomly pick an angle $ \\theta \\in [0,2\\pi) $.\n",
    "\n",
    "Suppose that we have 1000 copies of quantum state $ \\ket{v} = \\myvector{ \\cos \\theta \\\\ \\sin \\theta } $ and we measure each of them.\n",
    "\n",
    "What are the expected numbers of observing the states 0 and 1?\n",
    "\n",
    "Implement the above experiment by designing a quantum circuit and set the quantum state by using ry-gate.\n",
    "\n",
    "Compare your experimental and analytic results.\n",
    "\n",
    "Repeat the task a couple of times."
   ]
  },
  {
   "cell_type": "code",
   "execution_count": null,
   "metadata": {
    "id": "pLaUq3Pepy7b"
   },
   "outputs": [],
   "source": [
    "#\n",
    "# your code is here\n",
    "#\n"
   ]
  },
  {
   "cell_type": "markdown",
   "metadata": {
    "id": "TtVVo5UWpy7b"
   },
   "source": [
    "To check out our solution, run the next cell:"
   ]
  },
  {
   "cell_type": "code",
   "execution_count": null,
   "metadata": {
    "colab": {
     "base_uri": "https://localhost:8080/",
     "height": 17
    },
    "id": "6ltLD3O2py7b",
    "outputId": "18ad72f6-853f-4040-c085-eb2a26f31178"
   },
   "outputs": [
    {
     "data": {
      "application/javascript": "window.open(\"https://colab.research.google.com/drive/1E2G4XuE9B_OcCOAqVIdOuYgdkcgJIfiQ?usp=sharing#scrollTo=ibOcqmCYdugl\");",
      "text/plain": [
       "<IPython.core.display.Javascript object>"
      ]
     },
     "metadata": {},
     "output_type": "display_data"
    }
   ],
   "source": [
    "SolutionToTask3()  # show solution for task 3"
   ]
  }
 ],
 "metadata": {
  "colab": {
   "collapsed_sections": [
    "Olk6xy8Bpy7X"
   ],
   "provenance": []
  },
  "kernelspec": {
   "display_name": "qiskit-1-2",
   "language": "python",
   "name": "python3"
  },
  "language_info": {
   "codemirror_mode": {
    "name": "ipython",
    "version": 3
   },
   "file_extension": ".py",
   "mimetype": "text/x-python",
   "name": "python",
   "nbconvert_exporter": "python",
   "pygments_lexer": "ipython3",
   "version": "3.12.3"
  }
 },
 "nbformat": 4,
 "nbformat_minor": 0
}
