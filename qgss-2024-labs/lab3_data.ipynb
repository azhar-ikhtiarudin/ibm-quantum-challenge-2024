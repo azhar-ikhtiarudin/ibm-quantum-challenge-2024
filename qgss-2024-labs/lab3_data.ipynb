{
 "cells": [
  {
   "cell_type": "code",
   "execution_count": 1,
   "metadata": {},
   "outputs": [],
   "source": [
    "from qiskit_ibm_runtime import QiskitRuntimeService\n",
    "\n",
    "service = QiskitRuntimeService()"
   ]
  },
  {
   "cell_type": "code",
   "execution_count": 2,
   "metadata": {},
   "outputs": [],
   "source": [
    "job_ex1_result = service.job('ctf2cn2zw92000838x60')\n",
    "job_ex2_result = service.job('ctf2cnjy6ybg008fnv0g')\n",
    "job_ex3_result = service.job('ctf2cp21zwrg008cq1y0')\n",
    "job_ex4_result = service.job('ctf2gsvy6ybg008fnwdg')\n",
    "job_ex5_result = service.job('ctf2gtbzw92000838yd0')\n",
    "job_ex6_result = service.job('ctf2gtkakxxg008n3gh0')"
   ]
  },
  {
   "cell_type": "code",
   "execution_count": 8,
   "metadata": {},
   "outputs": [],
   "source": [
    "primitive_results = []\n",
    "primitive_results.append(job_ex1_result.result())\n",
    "primitive_results.append(job_ex2_result.result())\n",
    "primitive_results.append(job_ex3_result.result())\n",
    "primitive_results.append(job_ex4_result.result())\n",
    "primitive_results.append(job_ex5_result.result())\n",
    "primitive_results.append(job_ex6_result.result())"
   ]
  },
  {
   "cell_type": "code",
   "execution_count": 14,
   "metadata": {},
   "outputs": [],
   "source": [
    "import numpy as np\n",
    "evs_list = [ np.mean(primitive_results[i][0].data.evs) for i in range(len(primitive_results)) ]"
   ]
  },
  {
   "cell_type": "code",
   "execution_count": 16,
   "metadata": {},
   "outputs": [],
   "source": [
    "data = {\n",
    "    '1':evs_list[0],\n",
    "    '2':evs_list[1],\n",
    "    '3':evs_list[2],\n",
    "    '4a':evs_list[3],\n",
    "    '4b':evs_list[4],\n",
    "    '5':evs_list[5],\n",
    "}"
   ]
  },
  {
   "cell_type": "code",
   "execution_count": 17,
   "metadata": {},
   "outputs": [
    {
     "data": {
      "text/plain": [
       "<BarContainer object of 6 artists>"
      ]
     },
     "execution_count": 17,
     "metadata": {},
     "output_type": "execute_result"
    },
    {
     "data": {
      "image/png": "[encoded data removed]",
      "text/plain": [
       "<Figure size 640x480 with 1 Axes>"
      ]
     },
     "metadata": {},
     "output_type": "display_data"
    }
   ],
   "source": [
    "import matplotlib.pyplot as plt\n",
    "plt.bar(data.keys(), data.values())"
   ]
  }
 ],
 "metadata": {
  "kernelspec": {
   "display_name": "qgss24",
   "language": "python",
   "name": "python3"
  },
  "language_info": {
   "codemirror_mode": {
    "name": "ipython",
    "version": 3
   },
   "file_extension": ".py",
   "mimetype": "text/x-python",
   "name": "python",
   "nbconvert_exporter": "python",
   "pygments_lexer": "ipython3",
   "version": "3.10.14"
  }
 },
 "nbformat": 4,
 "nbformat_minor": 2
}
